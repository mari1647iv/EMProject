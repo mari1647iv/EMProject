{
  "nbformat": 4,
  "nbformat_minor": 0,
  "metadata": {
    "colab": {
      "provenance": [],
      "include_colab_link": true
    },
    "kernelspec": {
      "name": "python3",
      "display_name": "Python 3"
    },
    "language_info": {
      "name": "python"
    },
    "widgets": {
      "application/vnd.jupyter.widget-state+json": {
        "991ffdbbb7454110a391ececd7867e43": {
          "model_module": "@jupyter-widgets/controls",
          "model_name": "HBoxModel",
          "model_module_version": "1.5.0",
          "state": {
            "_dom_classes": [],
            "_model_module": "@jupyter-widgets/controls",
            "_model_module_version": "1.5.0",
            "_model_name": "HBoxModel",
            "_view_count": null,
            "_view_module": "@jupyter-widgets/controls",
            "_view_module_version": "1.5.0",
            "_view_name": "HBoxView",
            "box_style": "",
            "children": [
              "IPY_MODEL_30f908223bf24290a1fd0b24517bd9c5",
              "IPY_MODEL_414487ca1f1a4ec7b0e842ea35d62ff9",
              "IPY_MODEL_10f53a06e7cf41d081b1e2a95669ad91"
            ],
            "layout": "IPY_MODEL_47f3c6c82de34618ae8245d2ea0bd99e"
          }
        },
        "30f908223bf24290a1fd0b24517bd9c5": {
          "model_module": "@jupyter-widgets/controls",
          "model_name": "HTMLModel",
          "model_module_version": "1.5.0",
          "state": {
            "_dom_classes": [],
            "_model_module": "@jupyter-widgets/controls",
            "_model_module_version": "1.5.0",
            "_model_name": "HTMLModel",
            "_view_count": null,
            "_view_module": "@jupyter-widgets/controls",
            "_view_module_version": "1.5.0",
            "_view_name": "HTMLView",
            "description": "",
            "description_tooltip": null,
            "layout": "IPY_MODEL_2d7ff9dd12c444479e9784d12aba914e",
            "placeholder": "​",
            "style": "IPY_MODEL_f953390133ed41fea1c3c868054837f4",
            "value": "Processing mindsdb_mindsdb: 100%"
          }
        },
        "414487ca1f1a4ec7b0e842ea35d62ff9": {
          "model_module": "@jupyter-widgets/controls",
          "model_name": "FloatProgressModel",
          "model_module_version": "1.5.0",
          "state": {
            "_dom_classes": [],
            "_model_module": "@jupyter-widgets/controls",
            "_model_module_version": "1.5.0",
            "_model_name": "FloatProgressModel",
            "_view_count": null,
            "_view_module": "@jupyter-widgets/controls",
            "_view_module_version": "1.5.0",
            "_view_name": "ProgressView",
            "bar_style": "success",
            "description": "",
            "description_tooltip": null,
            "layout": "IPY_MODEL_02ec72220870452bb7ca40da1fb63b3b",
            "max": 27,
            "min": 0,
            "orientation": "horizontal",
            "style": "IPY_MODEL_c13aaf52e89649b1a761756c1d9ea812",
            "value": 27
          }
        },
        "10f53a06e7cf41d081b1e2a95669ad91": {
          "model_module": "@jupyter-widgets/controls",
          "model_name": "HTMLModel",
          "model_module_version": "1.5.0",
          "state": {
            "_dom_classes": [],
            "_model_module": "@jupyter-widgets/controls",
            "_model_module_version": "1.5.0",
            "_model_name": "HTMLModel",
            "_view_count": null,
            "_view_module": "@jupyter-widgets/controls",
            "_view_module_version": "1.5.0",
            "_view_name": "HTMLView",
            "description": "",
            "description_tooltip": null,
            "layout": "IPY_MODEL_d371ed8f21bb442fbfc92076b7b4fa0d",
            "placeholder": "​",
            "style": "IPY_MODEL_6c1c72415581449f8812fb3022dc73b3",
            "value": " 27/27 [2:37:43&lt;00:00, 233.21s/it, Deleting repository...]"
          }
        },
        "47f3c6c82de34618ae8245d2ea0bd99e": {
          "model_module": "@jupyter-widgets/base",
          "model_name": "LayoutModel",
          "model_module_version": "1.2.0",
          "state": {
            "_model_module": "@jupyter-widgets/base",
            "_model_module_version": "1.2.0",
            "_model_name": "LayoutModel",
            "_view_count": null,
            "_view_module": "@jupyter-widgets/base",
            "_view_module_version": "1.2.0",
            "_view_name": "LayoutView",
            "align_content": null,
            "align_items": null,
            "align_self": null,
            "border": null,
            "bottom": null,
            "display": null,
            "flex": null,
            "flex_flow": null,
            "grid_area": null,
            "grid_auto_columns": null,
            "grid_auto_flow": null,
            "grid_auto_rows": null,
            "grid_column": null,
            "grid_gap": null,
            "grid_row": null,
            "grid_template_areas": null,
            "grid_template_columns": null,
            "grid_template_rows": null,
            "height": null,
            "justify_content": null,
            "justify_items": null,
            "left": null,
            "margin": null,
            "max_height": null,
            "max_width": null,
            "min_height": null,
            "min_width": null,
            "object_fit": null,
            "object_position": null,
            "order": null,
            "overflow": null,
            "overflow_x": null,
            "overflow_y": null,
            "padding": null,
            "right": null,
            "top": null,
            "visibility": null,
            "width": null
          }
        },
        "2d7ff9dd12c444479e9784d12aba914e": {
          "model_module": "@jupyter-widgets/base",
          "model_name": "LayoutModel",
          "model_module_version": "1.2.0",
          "state": {
            "_model_module": "@jupyter-widgets/base",
            "_model_module_version": "1.2.0",
            "_model_name": "LayoutModel",
            "_view_count": null,
            "_view_module": "@jupyter-widgets/base",
            "_view_module_version": "1.2.0",
            "_view_name": "LayoutView",
            "align_content": null,
            "align_items": null,
            "align_self": null,
            "border": null,
            "bottom": null,
            "display": null,
            "flex": null,
            "flex_flow": null,
            "grid_area": null,
            "grid_auto_columns": null,
            "grid_auto_flow": null,
            "grid_auto_rows": null,
            "grid_column": null,
            "grid_gap": null,
            "grid_row": null,
            "grid_template_areas": null,
            "grid_template_columns": null,
            "grid_template_rows": null,
            "height": null,
            "justify_content": null,
            "justify_items": null,
            "left": null,
            "margin": null,
            "max_height": null,
            "max_width": null,
            "min_height": null,
            "min_width": null,
            "object_fit": null,
            "object_position": null,
            "order": null,
            "overflow": null,
            "overflow_x": null,
            "overflow_y": null,
            "padding": null,
            "right": null,
            "top": null,
            "visibility": null,
            "width": null
          }
        },
        "f953390133ed41fea1c3c868054837f4": {
          "model_module": "@jupyter-widgets/controls",
          "model_name": "DescriptionStyleModel",
          "model_module_version": "1.5.0",
          "state": {
            "_model_module": "@jupyter-widgets/controls",
            "_model_module_version": "1.5.0",
            "_model_name": "DescriptionStyleModel",
            "_view_count": null,
            "_view_module": "@jupyter-widgets/base",
            "_view_module_version": "1.2.0",
            "_view_name": "StyleView",
            "description_width": ""
          }
        },
        "02ec72220870452bb7ca40da1fb63b3b": {
          "model_module": "@jupyter-widgets/base",
          "model_name": "LayoutModel",
          "model_module_version": "1.2.0",
          "state": {
            "_model_module": "@jupyter-widgets/base",
            "_model_module_version": "1.2.0",
            "_model_name": "LayoutModel",
            "_view_count": null,
            "_view_module": "@jupyter-widgets/base",
            "_view_module_version": "1.2.0",
            "_view_name": "LayoutView",
            "align_content": null,
            "align_items": null,
            "align_self": null,
            "border": null,
            "bottom": null,
            "display": null,
            "flex": null,
            "flex_flow": null,
            "grid_area": null,
            "grid_auto_columns": null,
            "grid_auto_flow": null,
            "grid_auto_rows": null,
            "grid_column": null,
            "grid_gap": null,
            "grid_row": null,
            "grid_template_areas": null,
            "grid_template_columns": null,
            "grid_template_rows": null,
            "height": null,
            "justify_content": null,
            "justify_items": null,
            "left": null,
            "margin": null,
            "max_height": null,
            "max_width": null,
            "min_height": null,
            "min_width": null,
            "object_fit": null,
            "object_position": null,
            "order": null,
            "overflow": null,
            "overflow_x": null,
            "overflow_y": null,
            "padding": null,
            "right": null,
            "top": null,
            "visibility": null,
            "width": null
          }
        },
        "c13aaf52e89649b1a761756c1d9ea812": {
          "model_module": "@jupyter-widgets/controls",
          "model_name": "ProgressStyleModel",
          "model_module_version": "1.5.0",
          "state": {
            "_model_module": "@jupyter-widgets/controls",
            "_model_module_version": "1.5.0",
            "_model_name": "ProgressStyleModel",
            "_view_count": null,
            "_view_module": "@jupyter-widgets/base",
            "_view_module_version": "1.2.0",
            "_view_name": "StyleView",
            "bar_color": null,
            "description_width": ""
          }
        },
        "d371ed8f21bb442fbfc92076b7b4fa0d": {
          "model_module": "@jupyter-widgets/base",
          "model_name": "LayoutModel",
          "model_module_version": "1.2.0",
          "state": {
            "_model_module": "@jupyter-widgets/base",
            "_model_module_version": "1.2.0",
            "_model_name": "LayoutModel",
            "_view_count": null,
            "_view_module": "@jupyter-widgets/base",
            "_view_module_version": "1.2.0",
            "_view_name": "LayoutView",
            "align_content": null,
            "align_items": null,
            "align_self": null,
            "border": null,
            "bottom": null,
            "display": null,
            "flex": null,
            "flex_flow": null,
            "grid_area": null,
            "grid_auto_columns": null,
            "grid_auto_flow": null,
            "grid_auto_rows": null,
            "grid_column": null,
            "grid_gap": null,
            "grid_row": null,
            "grid_template_areas": null,
            "grid_template_columns": null,
            "grid_template_rows": null,
            "height": null,
            "justify_content": null,
            "justify_items": null,
            "left": null,
            "margin": null,
            "max_height": null,
            "max_width": null,
            "min_height": null,
            "min_width": null,
            "object_fit": null,
            "object_position": null,
            "order": null,
            "overflow": null,
            "overflow_x": null,
            "overflow_y": null,
            "padding": null,
            "right": null,
            "top": null,
            "visibility": null,
            "width": null
          }
        },
        "6c1c72415581449f8812fb3022dc73b3": {
          "model_module": "@jupyter-widgets/controls",
          "model_name": "DescriptionStyleModel",
          "model_module_version": "1.5.0",
          "state": {
            "_model_module": "@jupyter-widgets/controls",
            "_model_module_version": "1.5.0",
            "_model_name": "DescriptionStyleModel",
            "_view_count": null,
            "_view_module": "@jupyter-widgets/base",
            "_view_module_version": "1.2.0",
            "_view_name": "StyleView",
            "description_width": ""
          }
        }
      }
    }
  },
  "cells": [
    {
      "cell_type": "markdown",
      "metadata": {
        "id": "view-in-github",
        "colab_type": "text"
      },
      "source": [
        "<a href=\"https://colab.research.google.com/github/mari1647iv/EMProject/blob/main/DatasetCollection/radon_methods_metrics_collection.ipynb\" target=\"_parent\"><img src=\"https://colab.research.google.com/assets/colab-badge.svg\" alt=\"Open In Colab\"/></a>"
      ]
    },
    {
      "cell_type": "code",
      "source": [
        "from IPython.display import clear_output"
      ],
      "metadata": {
        "id": "r2qSONNVTbnm"
      },
      "execution_count": null,
      "outputs": []
    },
    {
      "cell_type": "code",
      "source": [
        "!sudo apt install python3.8\n",
        "clear_output()"
      ],
      "metadata": {
        "id": "j4KYbhcVO_Hm"
      },
      "execution_count": null,
      "outputs": []
    },
    {
      "cell_type": "code",
      "execution_count": null,
      "metadata": {
        "id": "L7EtOlkH8OTF"
      },
      "outputs": [],
      "source": [
        "!wget https://www.sourcemeter.com/static/SourceMeter-10.2.0-x64-Linux.tgz\n",
        "clear_output()"
      ]
    },
    {
      "cell_type": "code",
      "source": [
        "!tar zxvf SourceMeter-10.2.0-x64-Linux.tgz\n",
        "clear_output()"
      ],
      "metadata": {
        "id": "27UEd69I8ko1"
      },
      "execution_count": null,
      "outputs": []
    },
    {
      "cell_type": "code",
      "source": [
        "TXT_FILENAME = 'em_repo_stars_part1.txt'\n",
        "with open(TXT_FILENAME) as f:\n",
        "    repos = [line.strip() for line in f.readlines()]"
      ],
      "metadata": {
        "id": "jsdDxQyUBUT1"
      },
      "execution_count": null,
      "outputs": []
    },
    {
      "cell_type": "code",
      "source": [
        "import os\n",
        "\n",
        "def create_init_files(root_dir):\n",
        "    for path, subdirs, files in os.walk(root_dir):\n",
        "        open(f\"{path}/__init__.py\", 'w').close()"
      ],
      "metadata": {
        "id": "FgHj_stnfUKn"
      },
      "execution_count": null,
      "outputs": []
    },
    {
      "cell_type": "code",
      "source": [
        "import subprocess\n",
        "from tqdm.notebook import tqdm\n",
        "\n",
        "pbar = tqdm(repos)\n",
        "for repo in pbar:\n",
        "    # get folder name\n",
        "    folder_name = repo.split('/')[-1]\n",
        "    # get repo name\n",
        "    repo_name = \"_\".join(repo.split('/')[-2:])\n",
        "    pbar.set_description_str(f\"Processing {repo_name}\")\n",
        "    # clone repo\n",
        "    pbar.set_postfix_str(\"Cloning Repository...\")\n",
        "    subprocess.run([\"git\", \"clone\", repo])\n",
        "    create_init_files(folder_name)\n",
        "    # calculate metrics\n",
        "    pbar.set_postfix_str(f\"Running SourceMeter...\")\n",
        "    subprocess.run([\n",
        "        \"./SourceMeter-10.2.0-x64-Linux/Python/AnalyzerPython\",\n",
        "        \"-pythonBinary=python3.8\",\n",
        "        \"-pythonVersion=3\",\n",
        "        \"-runDCF=False\",\n",
        "        f\"-projectName={repo_name}\",\n",
        "        f\"-projectBaseDir={folder_name}\",\n",
        "        f\"-resultsDir=Results/{repo_name}\"\n",
        "    ])\n",
        "    # # # save to gdrive\n",
        "    # pbar.set_postfix_str(f\"Saving Results to GDrive...\")\n",
        "    subprocess.run(['zip', '-r', 'SMResultsPart1_2.zip', 'Results'])\n",
        "    subprocess.run(['cp', '-r', 'SMResultsPart1_2.zip', 'drive/MyDrive'])\n",
        "    subprocess.run(['rm', '-rf', 'SMResultsPart1_2.zip'])\n",
        "    # delete repository\n",
        "    pbar.set_postfix_str(f\"Deleting repository...\")\n",
        "    subprocess.run(['rm', '-rf', folder_name])"
      ],
      "metadata": {
        "id": "8Vo4QI8NcPLs",
        "outputId": "dacaee66-5e6d-4bc5-c442-33292768fd1b",
        "colab": {
          "base_uri": "https://localhost:8080/",
          "height": 49,
          "referenced_widgets": [
            "991ffdbbb7454110a391ececd7867e43",
            "30f908223bf24290a1fd0b24517bd9c5",
            "414487ca1f1a4ec7b0e842ea35d62ff9",
            "10f53a06e7cf41d081b1e2a95669ad91",
            "47f3c6c82de34618ae8245d2ea0bd99e",
            "2d7ff9dd12c444479e9784d12aba914e",
            "f953390133ed41fea1c3c868054837f4",
            "02ec72220870452bb7ca40da1fb63b3b",
            "c13aaf52e89649b1a761756c1d9ea812",
            "d371ed8f21bb442fbfc92076b7b4fa0d",
            "6c1c72415581449f8812fb3022dc73b3"
          ]
        }
      },
      "execution_count": null,
      "outputs": [
        {
          "output_type": "display_data",
          "data": {
            "text/plain": [
              "  0%|          | 0/27 [00:00<?, ?it/s]"
            ],
            "application/vnd.jupyter.widget-view+json": {
              "version_major": 2,
              "version_minor": 0,
              "model_id": "991ffdbbb7454110a391ececd7867e43"
            }
          },
          "metadata": {}
        }
      ]
    },
    {
      "cell_type": "code",
      "source": [
        "from pathlib import Path, PurePath\n",
        "import glob\n",
        "import shutil\n",
        "\n",
        "dirs = os.listdir(\"/content/Results\")\n",
        "for file in glob.glob(r'/content/Results/*/*/python/*/*-Method.csv'):\n",
        "    print(file)\n",
        "    if os.path.isfile(file):\n",
        "        shutil.copy(file, \"/content/SM_Part1_new_Method\")\n",
        "    else:\n",
        "        print(\"fail\")\n",
        "\n",
        "# for path in Path(\"/content\").glob(\"Results\"):\n",
        "    # csv_path = path.glob(\"*/*/python/*/*-Method.csv\")\n",
        "    # os.rename(\"path/to/current/file.foo\", \"path/to/new/destination/for/file.foo\")\n",
        "    # os.replace(\"path/to/current/file.foo\", \"path/to/new/destination/for/file.foo\")\n",
        "    # shutil.move(\"path/to/current/file.foo\", \"path/to/new/destination/for/file.foo\")\n",
        "\n"
      ],
      "metadata": {
        "id": "U_ABTgylOK5o",
        "outputId": "48312e2b-65c9-4675-fac6-c10bf9a4300d",
        "colab": {
          "base_uri": "https://localhost:8080/"
        }
      },
      "execution_count": null,
      "outputs": [
        {
          "output_type": "stream",
          "name": "stdout",
          "text": [
            "/content/Results/OpenBB-finance_OpenBBTerminal/OpenBB-finance_OpenBBTerminal/python/2024-10-20-20-00-33/OpenBB-finance_OpenBBTerminal-Method.csv\n",
            "/content/Results/python-poetry_poetry/python-poetry_poetry/python/2024-10-20-19-28-10/python-poetry_poetry-Method.csv\n",
            "/content/Results/huggingface_pytorch-image-models/huggingface_pytorch-image-models/python/2024-10-20-19-26-51/huggingface_pytorch-image-models-Method.csv\n",
            "/content/Results/open-mmlab_mmdetection/open-mmlab_mmdetection/python/2024-10-20-19-32-25/open-mmlab_mmdetection-Method.csv\n",
            "/content/Results/numpy_numpy/numpy_numpy/python/2024-10-20-19-45-20/numpy_numpy-Method.csv\n",
            "/content/Results/explosion_spaCy/explosion_spaCy/python/2024-10-20-19-25-32/explosion_spaCy-Method.csv\n",
            "/content/Results/google_jax/google_jax/python/2024-10-20-19-40-14/google_jax-Method.csv\n",
            "/content/Results/pypa_pipenv/pypa_pipenv/python/2024-10-20-20-05-32/pypa_pipenv-Method.csv\n",
            "/content/Results/streamlit_streamlit/streamlit_streamlit/python/2024-10-20-19-22-15/streamlit_streamlit-Method.csv\n",
            "/content/Results/encode_django-rest-framework/encode_django-rest-framework/python/2024-10-20-19-31-03/encode_django-rest-framework-Method.csv\n",
            "/content/Results/python-telegram-bot_python-telegram-bot/python-telegram-bot_python-telegram-bot/python/2024-10-20-20-10-11/python-telegram-bot_python-telegram-bot-Method.csv\n",
            "/content/Results/nicolargo_glances/nicolargo_glances/python/2024-10-20-20-08-05/nicolargo_glances-Method.csv\n",
            "/content/Results/matplotlib_matplotlib/matplotlib_matplotlib/python/2024-10-20-20-23-28/matplotlib_matplotlib-Method.csv\n",
            "/content/Results/lm-sys_FastChat/lm-sys_FastChat/python/2024-10-20-19-20-53/lm-sys_FastChat-Method.csv\n",
            "/content/Results/freqtrade_freqtrade/freqtrade_freqtrade/python/2024-10-20-20-12-51/freqtrade_freqtrade-Method.csv\n",
            "/content/Results/oobabooga_text-generation-webui/oobabooga_text-generation-webui/python/2024-10-20-19-38-28/oobabooga_text-generation-webui-Method.csv\n",
            "/content/Results/Lightning-AI_lightning/Lightning-AI_lightning/python/2024-10-20-19-42-57/Lightning-AI_lightning-Method.csv\n",
            "/content/Results/mindsdb_mindsdb/mindsdb_mindsdb/python/2024-10-20-20-26-59/mindsdb_mindsdb-Method.csv\n",
            "/content/Results/facebookresearch_detectron2/facebookresearch_detectron2/python/2024-10-20-19-29-30/facebookresearch_detectron2-Method.csv\n",
            "/content/Results/geekan_MetaGPT/geekan_MetaGPT/python/2024-10-20-19-24-00/geekan_MetaGPT-Method.csv\n",
            "/content/Results/gradio-app_gradio/gradio-app_gradio/python/2024-10-20-20-15-23/gradio-app_gradio-Method.csv\n",
            "/content/Results/huggingface_diffusers/huggingface_diffusers/python/2024-10-20-20-17-52/huggingface_diffusers-Method.csv\n",
            "/content/Results/geekcomputers_Python/geekcomputers_Python/python/2024-10-20-17-54-15/geekcomputers_Python-Method.csv\n",
            "/content/Results/ray-project_ray/ray-project_ray/python/2024-10-20-17-55-43/ray-project_ray-Method.csv\n",
            "/content/Results/lllyasviel_ControlNet/lllyasviel_ControlNet/python/2024-10-20-20-03-26/lllyasviel_ControlNet-Method.csv\n",
            "/content/Results/microsoft_DeepSpeed/microsoft_DeepSpeed/python/2024-10-20-17-53-32/microsoft_DeepSpeed-Method.csv\n",
            "/content/Results/sqlmapproject_sqlmap/sqlmapproject_sqlmap/python/2024-10-20-17-54-42/sqlmapproject_sqlmap-Method.csv\n"
          ]
        }
      ]
    },
    {
      "cell_type": "code",
      "source": [
        "! zip -r \"./SM_Part1_new-Method.zip\" \"./SM_Part1_new_Method\""
      ],
      "metadata": {
        "id": "4IhDZjBL02ZG",
        "outputId": "3cd872e5-e409-4f49-82d3-ccbd1b6a22c9",
        "colab": {
          "base_uri": "https://localhost:8080/"
        }
      },
      "execution_count": null,
      "outputs": [
        {
          "output_type": "stream",
          "name": "stdout",
          "text": [
            "  adding: SM_Part1_new_Method/ (stored 0%)\n",
            "  adding: SM_Part1_new_Method/geekan_MetaGPT-Method.csv (deflated 87%)\n",
            "  adding: SM_Part1_new_Method/OpenBB-finance_OpenBBTerminal-Method.csv (deflated 89%)\n",
            "  adding: SM_Part1_new_Method/huggingface_diffusers-Method.csv (deflated 90%)\n",
            "  adding: SM_Part1_new_Method/freqtrade_freqtrade-Method.csv (deflated 87%)\n",
            "  adding: SM_Part1_new_Method/encode_django-rest-framework-Method.csv (deflated 88%)\n",
            "  adding: SM_Part1_new_Method/gradio-app_gradio-Method.csv (deflated 87%)\n",
            "  adding: SM_Part1_new_Method/nicolargo_glances-Method.csv (deflated 87%)\n",
            "  adding: SM_Part1_new_Method/python-poetry_poetry-Method.csv (deflated 87%)\n",
            "  adding: SM_Part1_new_Method/matplotlib_matplotlib-Method.csv (deflated 87%)\n",
            "  adding: SM_Part1_new_Method/lm-sys_FastChat-Method.csv (deflated 89%)\n",
            "  adding: SM_Part1_new_Method/pypa_pipenv-Method.csv (deflated 88%)\n",
            "  adding: SM_Part1_new_Method/explosion_spaCy-Method.csv (deflated 86%)\n",
            "  adding: SM_Part1_new_Method/huggingface_pytorch-image-models-Method.csv (deflated 88%)\n",
            "  adding: SM_Part1_new_Method/python-telegram-bot_python-telegram-bot-Method.csv (deflated 89%)\n",
            "  adding: SM_Part1_new_Method/lllyasviel_ControlNet-Method.csv (deflated 87%)\n",
            "  adding: SM_Part1_new_Method/geekcomputers_Python-Method.csv (deflated 87%)\n",
            "  adding: SM_Part1_new_Method/microsoft_DeepSpeed-Method.csv (deflated 89%)\n",
            "  adding: SM_Part1_new_Method/ray-project_ray-Method.csv (deflated 88%)\n",
            "  adding: SM_Part1_new_Method/streamlit_streamlit-Method.csv (deflated 89%)\n",
            "  adding: SM_Part1_new_Method/facebookresearch_detectron2-Method.csv (deflated 87%)\n",
            "  adding: SM_Part1_new_Method/oobabooga_text-generation-webui-Method.csv (deflated 88%)\n",
            "  adding: SM_Part1_new_Method/google_jax-Method.csv (deflated 87%)\n",
            "  adding: SM_Part1_new_Method/Lightning-AI_lightning-Method.csv (deflated 89%)\n",
            "  adding: SM_Part1_new_Method/open-mmlab_mmdetection-Method.csv (deflated 87%)\n",
            "  adding: SM_Part1_new_Method/mindsdb_mindsdb-Method.csv (deflated 89%)\n",
            "  adding: SM_Part1_new_Method/sqlmapproject_sqlmap-Method.csv (deflated 88%)\n",
            "  adding: SM_Part1_new_Method/numpy_numpy-Method.csv (deflated 88%)\n"
          ]
        }
      ]
    },
    {
      "cell_type": "code",
      "source": [
        "import json\n",
        "import os\n",
        "\n",
        "def convert_jsonl_to_json(input_jsonl_file, output_json_folder):\n",
        "    # Ensure the output folder exists\n",
        "    os.makedirs(output_json_folder, exist_ok=True)\n",
        "\n",
        "    # Determine the output JSON filename\n",
        "    base_name = os.path.splitext(os.path.basename(input_jsonl_file))[0]\n",
        "    output_json_file = os.path.join(output_json_folder, base_name + '.json')\n",
        "\n",
        "    # Read the JSONL file and aggregate the data\n",
        "    data = []\n",
        "    with open(input_jsonl_file, 'r') as jsonl_file:\n",
        "        for line_number, line in enumerate(jsonl_file, start=1):\n",
        "            line = line.strip()\n",
        "            if not line:  # Skip empty lines\n",
        "                continue\n",
        "            try:\n",
        "                data.append(json.loads(line))\n",
        "            except json.JSONDecodeError as e:\n",
        "                print(f\"Error decoding JSON on line {line_number}: {e}\")\n",
        "                continue\n",
        "\n",
        "    # Write to the JSON file\n",
        "    with open(output_json_file, 'w') as json_file:\n",
        "        json.dump(data, json_file, indent=4)\n",
        "\n",
        "    print(f\"Converted {input_jsonl_file} to {output_json_file}\")"
      ],
      "metadata": {
        "id": "tvBQrDdt-uzL"
      },
      "execution_count": null,
      "outputs": []
    },
    {
      "cell_type": "code",
      "source": [
        "convert_jsonl_to_json(\"./results.jsonl\", \"./\")"
      ],
      "metadata": {
        "colab": {
          "base_uri": "https://localhost:8080/"
        },
        "id": "YT2Bm-uNA2En",
        "outputId": "8dc19ae1-d531-4a81-bfb2-90ca0d002c4b"
      },
      "execution_count": null,
      "outputs": [
        {
          "output_type": "stream",
          "name": "stdout",
          "text": [
            "Converted ./results.jsonl to ./results.json\n"
          ]
        }
      ]
    }
  ]
}